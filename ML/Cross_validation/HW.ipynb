{
 "cells": [
  {
   "cell_type": "markdown",
   "id": "681c7ee8",
   "metadata": {},
   "source": [
    "К текущему моменту мы научились обучать простейшую линейную регрессию: причем научились пользоваться как готовыми методами из sklearn, так и реализовывать поиск решения оптимальных коэффициентов самостоятельно с помощью градиентного спуска.\n",
    "\n",
    "На последних занятиях мы узнали, что на практике часто приходится прибегать к некоторым хитростям, чтобы оценить, действительно ли модель отлично справляется со своей главной задачей - делать хорошие предсказания на новых данных в будущем, или, как еще говорят, в проде - после запуска.\n",
    "\n",
    "Для этого было введено понятие так называемой обобщающей способности модели. Оно помогает нам оценить, насколько наша модель подогналась под увиденные данные и насколько она окажется хороша на новых данных.\n",
    "\n",
    "Обобщающую способность мы научились оценивать с помощью метода Кросс-Валидации.\n",
    "\n"
   ]
  },
  {
   "cell_type": "markdown",
   "id": "e409dcf7",
   "metadata": {},
   "source": [
    "Построим для старой задачи с предсказанием длительности поездки в такси 2 модели линейной регрессии. Для каждой из них замерим качество на кросс-валидации и на тесте, заранее его отложив.\n",
    "\n",
    "Считается, что если для K-Fold Кросс-Валидации брать большие значения K (то есть большое количество сплитов для разбиения тренировочной выборки на тренировку-валидацию), то оценка среднеквадратической ошибки будет получаться более справедливой. Так, например, когда K оказывается максимальным, а именно равным количеству объектов в выборке (каждый раз в валидации у нас 1 новый объект), то такой метод Кросс-Валидации еще называют LeaveOneOut.\n",
    "\n",
    "Главная причина, почему мало где его используют, состоит в дороговизне такого метода. Например, в данной задаче в TAXI_train.csv лежит почти 1,2 млн. объектов. Тогда, чтобы замерить качество на LeaveOneOut валидации, нам пришлось бы обучить 1,2 млн. различных версий одной модели, что, конечно, не вписыватеся в рамки адекватного времени и прочих ресурсов.\n",
    "\n",
    "Поэтому выберем компромиссное значение в виде 20 фолдов для K-Fold Кросс-Валидации.\n",
    "\n",
    "Внимание! Для каждой из 2 моделей очевидно было бы справедливым замерять качество на тех же самых объектах, поэтому сплиты лучше зафиксировать сразу.\n",
    "\n",
    "P.S. Оптимизировать будем MSLE метрику. И сравнивать модели тоже будем по ней будем. Как из домашнего задания про метрики, только без корня! :)\n",
    "\n",
    "$$\\text{MSLE}(X, y, a) = \\frac{1}{\\ell}\\sum_{i=1}^{\\ell} \\big(\\log{(y_i + 1)} - \\log{(a(x_i) + 1)}\\big)^2$$\n"
   ]
  },
  {
   "cell_type": "markdown",
   "id": "8a3893f6",
   "metadata": {},
   "source": [
    "### Модель №1 Для начала посчитаем ошибку на Кросс-Валидации и Тесте для нашей самой базовой модели до вычленения каких-либо признаков, а просто взяв все вещественные колонки."
   ]
  },
  {
   "cell_type": "code",
   "execution_count": 1,
   "id": "07168a55",
   "metadata": {},
   "outputs": [],
   "source": [
    "import pandas as pd\n",
    "from sklearn.linear_model import LinearRegression"
   ]
  },
  {
   "cell_type": "code",
   "execution_count": 2,
   "id": "49c12c37",
   "metadata": {},
   "outputs": [],
   "source": [
    "initial_data = pd.read_csv('initial_data.csv', index_col='id')\n",
    "\n",
    "initial_cols = ['vendor_id', 'passenger_count', 'pickup_longitude',\n",
    "                'pickup_latitude', 'dropoff_longitude', 'dropoff_latitude',\n",
    "                'trip_duration']\n",
    "\n",
    "initial_data = initial_data[initial_cols]"
   ]
  },
  {
   "cell_type": "markdown",
   "id": "047d8a95",
   "metadata": {},
   "source": [
    "### ТрюК!"
   ]
  },
  {
   "cell_type": "code",
   "execution_count": 3,
   "id": "9fd46d3a",
   "metadata": {},
   "outputs": [],
   "source": [
    "### Замерять будем MSLE. Можно показать, что для оптимизации MSLE,\n",
    "### Достаточно логарифмировать таргетную переменную, \n",
    "### а потом оптимизировать привычные MSE\n",
    "import numpy as np\n",
    "\n",
    "initial_data = initial_data.assign(log_trip_duration=np.log1p(initial_data['trip_duration']))\n",
    "initial_data = initial_data.drop('trip_duration', axis=1)"
   ]
  },
  {
   "cell_type": "markdown",
   "id": "c32f721e",
   "metadata": {
    "tags": []
   },
   "source": [
    "### Объяснение:\n",
    "\n",
    "Пусть имеем модель $a(x)$, обученную на MSE от $y$:\n",
    "$$\n",
    "\\text{MSE}(X, y, a) = \\frac{1}{\\ell}\\sum_{i=1}^{\\ell} \\big(y_i - a(x_i)\\big)^2 \\rightarrow min\n",
    "$$\n",
    "\n",
    "Также представим модель $a^*(x)$, обученную на MSE от $\\log{(y + 1)}$:\n",
    "$$\n",
    "\\text{MSE}(X, \\log{(y+1)}, a^*) = \\frac{1}{\\ell}\\sum_{i=1}^{\\ell} \\big(\\log{(y_i + 1)} - a^*(x_i)\\big)^2 \\rightarrow min\n",
    "$$\n",
    "\n",
    "Так как вторая модель старается аппроксимироваться ответы в виде $a^*(x) \\approx \\log{(y+1)}$, то для того, чтобы получить изначальные таргеты, необходимо выходы $a^*(x)$ проэкспоненцировать в виде следующего отношения: $a(x) = e^{a^*(x)} - 1$, то есть $a^*(x) = \\log{(a(x) + 1)}$, где $a^*(x)$ дает логарифмические выходы, а $a(x)$ - изначальные. Подставим данное соотношение в MSE выше, получим:\n",
    "\n",
    "$$\n",
    "\\text{MSE}(X, \\log{(y+1)}, \\log{(a(x) + 1)}) = \\frac{1}{\\ell}\\sum_{i=1}^{\\ell} \\big(\\log{(y_i + 1)} - \\log{(a(x_i) + 1)}\\big)^2 \\rightarrow min\n",
    "$$\n",
    "\n",
    "А это в точности MSLE от $y$:\n",
    "\n",
    "$$\n",
    "\\text{MSLE}(X, y, a) = \\frac{1}{\\ell}\\sum_{i=1}^{\\ell} \\big(\\log{(y_i + 1)} - \\log{(a(x_i) + 1)}\\big)^2 \\rightarrow min\n",
    "$$"
   ]
  },
  {
   "cell_type": "code",
   "execution_count": 4,
   "id": "5e38d437",
   "metadata": {},
   "outputs": [],
   "source": [
    "### Выделим test\n",
    "\n",
    "from sklearn.model_selection import train_test_split\n",
    "\n",
    "X = initial_data.drop('log_trip_duration', axis=1)\n",
    "y = initial_data['log_trip_duration']\n",
    "\n",
    "X_train, X_test, y_train, y_test = train_test_split(X, y, \n",
    "                                                    test_size=0.2, \n",
    "                                                    random_state=42)"
   ]
  },
  {
   "cell_type": "code",
   "execution_count": 45,
   "id": "4e7dfb20-344b-4ef2-b108-861d9e1dcd50",
   "metadata": {
    "collapsed": true,
    "jupyter": {
     "outputs_hidden": true
    },
    "tags": []
   },
   "outputs": [
    {
     "data": {
      "text/html": [
       "<div>\n",
       "<style scoped>\n",
       "    .dataframe tbody tr th:only-of-type {\n",
       "        vertical-align: middle;\n",
       "    }\n",
       "\n",
       "    .dataframe tbody tr th {\n",
       "        vertical-align: top;\n",
       "    }\n",
       "\n",
       "    .dataframe thead th {\n",
       "        text-align: right;\n",
       "    }\n",
       "</style>\n",
       "<table border=\"1\" class=\"dataframe\">\n",
       "  <thead>\n",
       "    <tr style=\"text-align: right;\">\n",
       "      <th></th>\n",
       "      <th>vendor_id</th>\n",
       "      <th>passenger_count</th>\n",
       "      <th>pickup_longitude</th>\n",
       "      <th>pickup_latitude</th>\n",
       "      <th>dropoff_longitude</th>\n",
       "      <th>dropoff_latitude</th>\n",
       "    </tr>\n",
       "    <tr>\n",
       "      <th>id</th>\n",
       "      <th></th>\n",
       "      <th></th>\n",
       "      <th></th>\n",
       "      <th></th>\n",
       "      <th></th>\n",
       "      <th></th>\n",
       "    </tr>\n",
       "  </thead>\n",
       "  <tbody>\n",
       "    <tr>\n",
       "      <th>id0458976</th>\n",
       "      <td>2</td>\n",
       "      <td>1</td>\n",
       "      <td>-73.862762</td>\n",
       "      <td>40.768822</td>\n",
       "      <td>-73.891701</td>\n",
       "      <td>40.746689</td>\n",
       "    </tr>\n",
       "    <tr>\n",
       "      <th>id0434613</th>\n",
       "      <td>2</td>\n",
       "      <td>1</td>\n",
       "      <td>-73.958038</td>\n",
       "      <td>40.783237</td>\n",
       "      <td>-73.975510</td>\n",
       "      <td>40.760853</td>\n",
       "    </tr>\n",
       "    <tr>\n",
       "      <th>id3809234</th>\n",
       "      <td>2</td>\n",
       "      <td>1</td>\n",
       "      <td>-73.969460</td>\n",
       "      <td>40.785519</td>\n",
       "      <td>-73.989243</td>\n",
       "      <td>40.771748</td>\n",
       "    </tr>\n",
       "    <tr>\n",
       "      <th>id1203705</th>\n",
       "      <td>1</td>\n",
       "      <td>1</td>\n",
       "      <td>-73.981743</td>\n",
       "      <td>40.736549</td>\n",
       "      <td>-73.998352</td>\n",
       "      <td>40.726440</td>\n",
       "    </tr>\n",
       "    <tr>\n",
       "      <th>id1896645</th>\n",
       "      <td>2</td>\n",
       "      <td>1</td>\n",
       "      <td>-73.977913</td>\n",
       "      <td>40.752609</td>\n",
       "      <td>-73.975647</td>\n",
       "      <td>40.733139</td>\n",
       "    </tr>\n",
       "    <tr>\n",
       "      <th>...</th>\n",
       "      <td>...</td>\n",
       "      <td>...</td>\n",
       "      <td>...</td>\n",
       "      <td>...</td>\n",
       "      <td>...</td>\n",
       "      <td>...</td>\n",
       "    </tr>\n",
       "    <tr>\n",
       "      <th>id1753868</th>\n",
       "      <td>2</td>\n",
       "      <td>2</td>\n",
       "      <td>-73.955032</td>\n",
       "      <td>40.777328</td>\n",
       "      <td>-74.006203</td>\n",
       "      <td>40.749424</td>\n",
       "    </tr>\n",
       "    <tr>\n",
       "      <th>id2204747</th>\n",
       "      <td>1</td>\n",
       "      <td>1</td>\n",
       "      <td>-73.973618</td>\n",
       "      <td>40.763920</td>\n",
       "      <td>-73.983849</td>\n",
       "      <td>40.749874</td>\n",
       "    </tr>\n",
       "    <tr>\n",
       "      <th>id3043606</th>\n",
       "      <td>2</td>\n",
       "      <td>1</td>\n",
       "      <td>-74.006195</td>\n",
       "      <td>40.734283</td>\n",
       "      <td>-73.949608</td>\n",
       "      <td>40.785282</td>\n",
       "    </tr>\n",
       "    <tr>\n",
       "      <th>id1458584</th>\n",
       "      <td>1</td>\n",
       "      <td>1</td>\n",
       "      <td>-73.962341</td>\n",
       "      <td>40.767323</td>\n",
       "      <td>-73.969757</td>\n",
       "      <td>40.768669</td>\n",
       "    </tr>\n",
       "    <tr>\n",
       "      <th>id0357025</th>\n",
       "      <td>2</td>\n",
       "      <td>1</td>\n",
       "      <td>-73.874649</td>\n",
       "      <td>40.774071</td>\n",
       "      <td>-74.004242</td>\n",
       "      <td>40.746899</td>\n",
       "    </tr>\n",
       "  </tbody>\n",
       "</table>\n",
       "<p>1166915 rows × 6 columns</p>\n",
       "</div>"
      ],
      "text/plain": [
       "           vendor_id  passenger_count  pickup_longitude  pickup_latitude  \\\n",
       "id                                                                         \n",
       "id0458976          2                1        -73.862762        40.768822   \n",
       "id0434613          2                1        -73.958038        40.783237   \n",
       "id3809234          2                1        -73.969460        40.785519   \n",
       "id1203705          1                1        -73.981743        40.736549   \n",
       "id1896645          2                1        -73.977913        40.752609   \n",
       "...              ...              ...               ...              ...   \n",
       "id1753868          2                2        -73.955032        40.777328   \n",
       "id2204747          1                1        -73.973618        40.763920   \n",
       "id3043606          2                1        -74.006195        40.734283   \n",
       "id1458584          1                1        -73.962341        40.767323   \n",
       "id0357025          2                1        -73.874649        40.774071   \n",
       "\n",
       "           dropoff_longitude  dropoff_latitude  \n",
       "id                                              \n",
       "id0458976         -73.891701         40.746689  \n",
       "id0434613         -73.975510         40.760853  \n",
       "id3809234         -73.989243         40.771748  \n",
       "id1203705         -73.998352         40.726440  \n",
       "id1896645         -73.975647         40.733139  \n",
       "...                      ...               ...  \n",
       "id1753868         -74.006203         40.749424  \n",
       "id2204747         -73.983849         40.749874  \n",
       "id3043606         -73.949608         40.785282  \n",
       "id1458584         -73.969757         40.768669  \n",
       "id0357025         -74.004242         40.746899  \n",
       "\n",
       "[1166915 rows x 6 columns]"
      ]
     },
     "execution_count": 45,
     "metadata": {},
     "output_type": "execute_result"
    }
   ],
   "source": [
    "X_train"
   ]
  },
  {
   "cell_type": "code",
   "execution_count": 5,
   "id": "0f14889d",
   "metadata": {},
   "outputs": [],
   "source": [
    "### Применим K-Fold на оставшуюяся валидационную часть X_train, y_train\n",
    "\n",
    "from sklearn.model_selection import KFold\n",
    "\n",
    "splitter = KFold(n_splits=20, shuffle=True, random_state=33)"
   ]
  },
  {
   "cell_type": "code",
   "execution_count": 8,
   "id": "1a855831",
   "metadata": {
    "tags": []
   },
   "outputs": [
    {
     "name": "stdout",
     "output_type": "stream",
     "text": [
      "iteration 1\n",
      "iteration 2\n",
      "iteration 3\n",
      "iteration 4\n",
      "iteration 5\n",
      "iteration 6\n",
      "iteration 7\n",
      "iteration 8\n",
      "iteration 9\n",
      "iteration 10\n",
      "iteration 11\n",
      "iteration 12\n",
      "iteration 13\n",
      "iteration 14\n",
      "iteration 15\n",
      "iteration 16\n",
      "iteration 17\n",
      "iteration 18\n",
      "iteration 19\n",
      "iteration 20\n"
     ]
    },
    {
     "data": {
      "text/plain": [
       "0.613"
      ]
     },
     "execution_count": 8,
     "metadata": {},
     "output_type": "execute_result"
    }
   ],
   "source": [
    "### Замерьте качество на кросс-валидации!\n",
    "### Your code is here\n",
    "\n",
    "\n",
    "cv_train_losses = []\n",
    "cv_test_losses = []\n",
    "\n",
    "\n",
    "n = 1\n",
    "for train_index, test_index in splitter.split(X_train):\n",
    "    \n",
    "    X_train_i, X_test_i = X_train.values[train_index], X_train.values[test_index]\n",
    "    y_train_i, y_test_i = y_train.values[train_index], y_train.values[test_index]\n",
    "    \n",
    "    model = LinearRegression()\n",
    "    model.fit(X_train_i, y_train_i)\n",
    "    \n",
    "    print(f'iteration {n}...')\n",
    "    n += 1\n",
    "    \n",
    "    cv_test_losses.append(((y_test_i - model.predict(X_test_i))**2).mean())\n",
    "\n",
    "np.round(np.mean(cv_test_losses), 3)"
   ]
  },
  {
   "cell_type": "code",
   "execution_count": 9,
   "id": "36444389",
   "metadata": {},
   "outputs": [
    {
     "data": {
      "text/plain": [
       "0.606"
      ]
     },
     "execution_count": 9,
     "metadata": {},
     "output_type": "execute_result"
    }
   ],
   "source": [
    "### Теперь построим модель на всей тренировочной выборке\n",
    "### и замерим качество на тесте!\n",
    "### Your code is here\n",
    "\n",
    "simple_model = LinearRegression()\n",
    "\n",
    "simple_model.fit(X_train, y_train)\n",
    "\n",
    "\n",
    "np.round(((y_test - simple_model.predict(X_test))**2).mean(), 3)"
   ]
  },
  {
   "cell_type": "code",
   "execution_count": null,
   "id": "91fa74ff",
   "metadata": {},
   "outputs": [],
   "source": [
    "### Укажите в ответе на задание 4 среднее качество моделей на валидационных выборках\n",
    "### и качество модели, обученной на полной тренировочной выборке, на тестовой выборке.\n",
    "### В качестве разделителя используйте точку, ответ округлите до тысячных."
   ]
  },
  {
   "cell_type": "markdown",
   "id": "fcb985fc",
   "metadata": {},
   "source": [
    "### Модель №2. Проделаем все то же самое, только для модели с более осознанными признаками, которые удалось получить ранее"
   ]
  },
  {
   "cell_type": "code",
   "execution_count": 10,
   "id": "a2230ca7",
   "metadata": {},
   "outputs": [],
   "source": [
    "processed_data = pd.read_csv('processed_data.csv', index_col='id')"
   ]
  },
  {
   "cell_type": "code",
   "execution_count": 11,
   "id": "ad48eef1",
   "metadata": {},
   "outputs": [
    {
     "data": {
      "text/html": [
       "<div>\n",
       "<style scoped>\n",
       "    .dataframe tbody tr th:only-of-type {\n",
       "        vertical-align: middle;\n",
       "    }\n",
       "\n",
       "    .dataframe tbody tr th {\n",
       "        vertical-align: top;\n",
       "    }\n",
       "\n",
       "    .dataframe thead th {\n",
       "        text-align: right;\n",
       "    }\n",
       "</style>\n",
       "<table border=\"1\" class=\"dataframe\">\n",
       "  <thead>\n",
       "    <tr style=\"text-align: right;\">\n",
       "      <th></th>\n",
       "      <th>vendor_id</th>\n",
       "      <th>passenger_count</th>\n",
       "      <th>store_and_fwd_flag</th>\n",
       "      <th>trip_duration</th>\n",
       "      <th>distance_km</th>\n",
       "    </tr>\n",
       "    <tr>\n",
       "      <th>id</th>\n",
       "      <th></th>\n",
       "      <th></th>\n",
       "      <th></th>\n",
       "      <th></th>\n",
       "      <th></th>\n",
       "    </tr>\n",
       "  </thead>\n",
       "  <tbody>\n",
       "    <tr>\n",
       "      <th>id2875421</th>\n",
       "      <td>1</td>\n",
       "      <td>930.399753</td>\n",
       "      <td>0</td>\n",
       "      <td>455.0</td>\n",
       "      <td>1.500479</td>\n",
       "    </tr>\n",
       "    <tr>\n",
       "      <th>id2377394</th>\n",
       "      <td>0</td>\n",
       "      <td>930.399753</td>\n",
       "      <td>0</td>\n",
       "      <td>663.0</td>\n",
       "      <td>1.807119</td>\n",
       "    </tr>\n",
       "    <tr>\n",
       "      <th>id3858529</th>\n",
       "      <td>1</td>\n",
       "      <td>930.399753</td>\n",
       "      <td>0</td>\n",
       "      <td>2124.0</td>\n",
       "      <td>6.392080</td>\n",
       "    </tr>\n",
       "    <tr>\n",
       "      <th>id3504673</th>\n",
       "      <td>1</td>\n",
       "      <td>930.399753</td>\n",
       "      <td>0</td>\n",
       "      <td>429.0</td>\n",
       "      <td>1.487155</td>\n",
       "    </tr>\n",
       "    <tr>\n",
       "      <th>id2181028</th>\n",
       "      <td>1</td>\n",
       "      <td>930.399753</td>\n",
       "      <td>0</td>\n",
       "      <td>435.0</td>\n",
       "      <td>1.189925</td>\n",
       "    </tr>\n",
       "  </tbody>\n",
       "</table>\n",
       "</div>"
      ],
      "text/plain": [
       "           vendor_id  passenger_count  store_and_fwd_flag  trip_duration  \\\n",
       "id                                                                         \n",
       "id2875421          1       930.399753                   0          455.0   \n",
       "id2377394          0       930.399753                   0          663.0   \n",
       "id3858529          1       930.399753                   0         2124.0   \n",
       "id3504673          1       930.399753                   0          429.0   \n",
       "id2181028          1       930.399753                   0          435.0   \n",
       "\n",
       "           distance_km  \n",
       "id                      \n",
       "id2875421     1.500479  \n",
       "id2377394     1.807119  \n",
       "id3858529     6.392080  \n",
       "id3504673     1.487155  \n",
       "id2181028     1.189925  "
      ]
     },
     "execution_count": 11,
     "metadata": {},
     "output_type": "execute_result"
    }
   ],
   "source": [
    "processed_data.head()"
   ]
  },
  {
   "cell_type": "code",
   "execution_count": 12,
   "id": "76efede9",
   "metadata": {},
   "outputs": [],
   "source": [
    "### Замерять будем MSLE. Можно показать, что для оптимизации MSLE,\n",
    "### Достаточно логарифмировать таргетную переменную, \n",
    "### а потом оптимизировать привычные MSE\n",
    "import numpy as np\n",
    "\n",
    "processed_data = processed_data.assign(log_trip_duration=np.log1p(processed_data['trip_duration']))\n",
    "processed_data = processed_data.drop('trip_duration', axis=1)"
   ]
  },
  {
   "cell_type": "code",
   "execution_count": 13,
   "id": "61bd0b5c",
   "metadata": {},
   "outputs": [],
   "source": [
    "X_2 = processed_data.drop('log_trip_duration', axis=1)\n",
    "y_2 = processed_data['log_trip_duration']"
   ]
  },
  {
   "cell_type": "code",
   "execution_count": 14,
   "id": "d9069bb8",
   "metadata": {},
   "outputs": [],
   "source": [
    "### Важно! Когда сравниваем модели по их качеству\n",
    "### на валидации и на тесте, не шаффлим данные заново!\n",
    "\n",
    "test_indexes = X_test.index\n",
    "train_indexes = X_train.index\n",
    "\n",
    "X_train_2 = X_2[X_2.index.isin(train_indexes)]\n",
    "y_train_2 = y_2[y_2.index.isin(train_indexes)]\n",
    "\n",
    "X_test_2 = X_2[X_2.index.isin(test_indexes)]\n",
    "y_test_2 = y_2[y_2.index.isin(test_indexes)]"
   ]
  },
  {
   "cell_type": "code",
   "execution_count": 15,
   "id": "8e2d481b",
   "metadata": {},
   "outputs": [
    {
     "name": "stdout",
     "output_type": "stream",
     "text": [
      "iteration 1\n",
      "iteration 2\n",
      "iteration 3\n",
      "iteration 4\n",
      "iteration 5\n",
      "iteration 6\n",
      "iteration 7\n",
      "iteration 8\n",
      "iteration 9\n",
      "iteration 10\n",
      "iteration 11\n",
      "iteration 12\n",
      "iteration 13\n",
      "iteration 14\n",
      "iteration 15\n",
      "iteration 16\n",
      "iteration 17\n",
      "iteration 18\n",
      "iteration 19\n",
      "iteration 20\n"
     ]
    },
    {
     "data": {
      "text/plain": [
       "0.431"
      ]
     },
     "execution_count": 15,
     "metadata": {},
     "output_type": "execute_result"
    }
   ],
   "source": [
    "### Замерьте качество на кросс-валидации!\n",
    "### Your code is here\n",
    "\n",
    "cv_train_losses = []\n",
    "cv_test_losses = []\n",
    "\n",
    "\n",
    "n = 1\n",
    "for train_index, test_index in splitter.split(X_train_2):\n",
    "    \n",
    "    X_train_i2, X_test_i2 = X_train_2.values[train_index], X_train_2.values[test_index]\n",
    "    y_train_i2, y_test_i2 = y_train_2.values[train_index], y_train_2.values[test_index]\n",
    "    \n",
    "    model_2 = LinearRegression()\n",
    "    model_2.fit(X_train_i2, y_train_i2)\n",
    "    \n",
    "    \n",
    "    print(f'iteration {n}')\n",
    "    n += 1\n",
    "    \n",
    "    cv_test_losses.append(((y_test_i2 - model_2.predict(X_test_i2))**2).mean())\n",
    "\n",
    "np.round(np.mean(cv_test_losses), 3)"
   ]
  },
  {
   "cell_type": "code",
   "execution_count": 17,
   "id": "93008159",
   "metadata": {},
   "outputs": [
    {
     "data": {
      "text/plain": [
       "0.407"
      ]
     },
     "execution_count": 17,
     "metadata": {},
     "output_type": "execute_result"
    }
   ],
   "source": [
    "### Теперь построим модель и замерим качество на тесте!\n",
    "### Your code is here\n",
    "\n",
    "simple_model_2 = LinearRegression()\n",
    "\n",
    "simple_model_2.fit(X_train_2, y_train_2)\n",
    "\n",
    "np.round(((y_test_2 - simple_model_2.predict(X_test_2))**2).mean(), 3)"
   ]
  },
  {
   "cell_type": "code",
   "execution_count": null,
   "id": "22b5c1ce",
   "metadata": {},
   "outputs": [],
   "source": [
    "### Укажите в ответе на задание 5 среднее качество моделей на валидационных выборках\n",
    "### и качество модели, обученной на полной тренировочной выборке, на тестовой выборке.\n",
    "### В качестве разделителя используйте точку, ответ округлите до тысячных."
   ]
  },
  {
   "cell_type": "markdown",
   "id": "9f2bb4e0",
   "metadata": {},
   "source": [
    "### Какую модель среди двух стоило бы выбрать? Помогла ли нам базовая обработка признаков с первых уроков? "
   ]
  }
 ],
 "metadata": {
  "kernelspec": {
   "display_name": "Python 3 (ipykernel)",
   "language": "python",
   "name": "python3"
  },
  "language_info": {
   "codemirror_mode": {
    "name": "ipython",
    "version": 3
   },
   "file_extension": ".py",
   "mimetype": "text/x-python",
   "name": "python",
   "nbconvert_exporter": "python",
   "pygments_lexer": "ipython3",
   "version": "3.8.10"
  }
 },
 "nbformat": 4,
 "nbformat_minor": 5
}
